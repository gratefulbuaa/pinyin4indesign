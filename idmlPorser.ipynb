{
 "cells": [
  {
   "cell_type": "code",
   "execution_count": 12,
   "metadata": {
    "collapsed": false
   },
   "outputs": [
    {
     "name": "stdout",
     "output_type": "stream",
     "text": [
      "<aticle Self=\"mainmainmaindi3\">\n",
      "  <aticle Self=\"mainmainmaindi3i4\" XMLContent=\"mainmainmainu106\">\n",
      "    <p Self=\"mainmainmaindi3i4i8\"/>\n",
      "  </aticle>\n",
      "</aticle>\n",
      "\n",
      "['Stories/Story_mainmainmainu106.xml']\n",
      "<Element Story at 0x416cf88>\n",
      "<Story xmlns:idPkg=\"http://ns.adobe.com/AdobeInDesign/idml/1.0/packaging\" Self=\"mainmainmainu106\" AppliedTOCStyle=\"n\" TrackChanges=\"false\" StoryTitle=\"$ID/\" AppliedNamedGrid=\"n\">\n",
      "\t\t<StoryPreference OpticalMarginAlignment=\"false\" OpticalMarginSize=\"12\" FrameType=\"TextFrameType\" StoryOrientation=\"Horizontal\" StoryDirection=\"LeftToRightDirection\"/>\n",
      "\t\t<InCopyExportOption IncludeGraphicProxies=\"true\" IncludeAllResources=\"false\"/>\n",
      "\t\t<XMLElement Self=\"mainmainmaindi3i4\" MarkupTag=\"XMLTag/aticle\" XMLContent=\"mainmainmainu106\">\n",
      "\t\t\t<ParagraphStyleRange AppliedParagraphStyle=\"mainmainmainParagraphStyle/段落样式1\" Justification=\"LeftAlign\">\n",
      "\t\t\t\t<CharacterStyleRange AppliedCharacterStyle=\"mainmainmainCharacterStyle/$ID/[No character style]\" OTFContextualAlternate=\"false\">\n",
      "\t\t\t\t\t<Content>是非成败转头空，青山依旧在，几度夕阳红。一壶浊酒喜相逢，古今多少事，都付笑谈中。是非成败转头空，青山依旧在，几度夕阳红。滚滚长江东逝水，浪花淘尽英雄。是非成败转头空，青山依旧在，几度夕阳红。白发渔樵江渚上，惯看秋月春风。</Content>\n",
      "\t\t\t\t\t<Br/>\n",
      "\t\t\t\t\t<Content>白发渔樵江渚上，惯看秋月春风。是非成败转头空，青山依旧在，几度夕阳红。是非成败转头空，青山依旧在，几度夕阳红。白发渔樵江渚上，惯看秋月春风。滚滚长江东逝水，浪花淘尽英雄。一壶浊酒喜相逢，</Content>\n",
      "\t\t\t\t\t<XMLElement Self=\"mainmainmaindi3i4i8\" MarkupTag=\"XMLTag/p\">\n",
      "\t\t\t\t\t\t<Content>古今多少事，都付笑谈中。</Content>\n",
      "\t\t\t\t\t\t<XMLAttribute Self=\"mainmainmaindi3i4i8XMLAttributenid\" Name=\"id\" Value=\"&quot;我的世界&quot;\"/>\n",
      "\t\t\t\t\t</XMLElement>\n",
      "\t\t\t\t\t<Br/>\n",
      "\t\t\t\t</CharacterStyleRange>\n",
      "\t\t\t</ParagraphStyleRange>\n",
      "\t\t\t<XMLAttribute Self=\"mainmainmaindi3i4XMLAttributenid\" Name=\"id\" Value=\"我的世界\"/>\n",
      "\t\t</XMLElement>\n",
      "\t</Story>\n",
      "\n",
      "\n"
     ]
    }
   ],
   "source": [
    "#coding=utf-8\n",
    "from simple_idml import idml\n",
    "from lxml import etree\n",
    "global myStory\n",
    "my_idml_package = idml.IDMLPackage(\"./test.idml\")\n",
    "with my_idml_package.prefix(\"main\") as p_idml_main:\n",
    "    print etree.tostring(p_idml_main.xml_structure, pretty_print=True)\n",
    "    print p_idml_main.stories_for_node(\"*\")\n",
    "    myStory= p_idml_main.get_story_object_by_xpath(\"*\")\n",
    "    print myStory.node\n",
    "    print etree.tostring(myStory.node, pretty_print=True,encoding='UTF-8')"
   ]
  },
  {
   "cell_type": "code",
   "execution_count": 13,
   "metadata": {
    "collapsed": false
   },
   "outputs": [
    {
     "name": "stdout",
     "output_type": "stream",
     "text": [
      "[<Element Content at 0x4205a08>, <Element Content at 0x4205f88>, <Element Content at 0x4205fc8>]\n"
     ]
    }
   ],
   "source": [
    "print myStory.node.xpath('//Content')"
   ]
  },
  {
   "cell_type": "code",
   "execution_count": null,
   "metadata": {
    "collapsed": true
   },
   "outputs": [],
   "source": []
  }
 ],
 "metadata": {
  "kernelspec": {
   "display_name": "Python 2",
   "language": "python",
   "name": "python2"
  },
  "language_info": {
   "codemirror_mode": {
    "name": "ipython",
    "version": 2
   },
   "file_extension": ".py",
   "mimetype": "text/x-python",
   "name": "python",
   "nbconvert_exporter": "python",
   "pygments_lexer": "ipython2",
   "version": "2.7.6"
  }
 },
 "nbformat": 4,
 "nbformat_minor": 0
}
