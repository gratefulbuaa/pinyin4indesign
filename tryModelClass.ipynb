{
 "cells": [
  {
   "cell_type": "code",
   "execution_count": null,
   "metadata": {
    "collapsed": false
   },
   "outputs": [],
   "source": [
    "#coding=utf-8\n",
    "from simple_idml import idml\n",
    "from lxml import etree\n",
    "import xmltodict\n",
    "global myStory\n",
    "from app.models import Book, Page,Paragraph\n",
    "book_id='1'\n",
    "page_id='231'\n",
    "book=Book(book_id)\n",
    "page=Page(page_id,book)\n",
    "print page.xmlParas\n",
    "print page.xmlParas[0].xpath(\"../XMLElement[@MarkupTag='XMLTag/paragraph']/XMLAttribute[@Name='id']/@Value\")\n",
    "page.getParagraph('11')\n",
    "para=Paragraph(id='11',in_page=page,in_book=book)\n",
    "print para.contents\n",
    "print para.bounds"
   ]
  },
  {
   "cell_type": "code",
   "execution_count": null,
   "metadata": {
    "collapsed": true
   },
   "outputs": [],
   "source": []
  }
 ],
 "metadata": {
  "kernelspec": {
   "display_name": "Python 2",
   "language": "python",
   "name": "python2"
  },
  "language_info": {
   "codemirror_mode": {
    "name": "ipython",
    "version": 2
   },
   "file_extension": ".py",
   "mimetype": "text/x-python",
   "name": "python",
   "nbconvert_exporter": "python",
   "pygments_lexer": "ipython2",
   "version": "2.7.6"
  }
 },
 "nbformat": 4,
 "nbformat_minor": 0
}
