{
 "cells": [
  {
   "cell_type": "code",
   "execution_count": 1,
   "metadata": {
    "collapsed": false
   },
   "outputs": [
    {
     "name": "stdout",
     "output_type": "stream",
     "text": [
      "[<Element XMLElement at 0x45e69c8>, <Element XMLElement at 0x45e6508>, <Element XMLElement at 0x45e6688>, <Element XMLElement at 0x45e6a08>, <Element XMLElement at 0x45e6a48>, <Element XMLElement at 0x45e6a88>, <Element XMLElement at 0x45e6ac8>, <Element XMLElement at 0x45e6b08>, <Element XMLElement at 0x45e6b48>, <Element XMLElement at 0x45e6b88>, <Element XMLElement at 0x45e6bc8>, <Element XMLElement at 0x45e6c08>, <Element XMLElement at 0x45e6c48>, <Element XMLElement at 0x45e6c88>, <Element XMLElement at 0x45e6cc8>, <Element XMLElement at 0x45e6d08>, <Element XMLElement at 0x45e6d48>, <Element XMLElement at 0x45e6d88>, <Element XMLElement at 0x45e6dc8>, <Element XMLElement at 0x45e6e08>, <Element XMLElement at 0x45e6e48>, <Element XMLElement at 0x45e6e88>]\n",
      "['1', '3', '5', '7', '9', '11', '13', '15', '17', '19', '21', '23', '25', '27', '29', '31', '33', '35', '37', '39', '41', '43']\n"
     ]
    },
    {
     "data": {
      "text/plain": [
       "[['1'],\n",
       " ['3'],\n",
       " ['5'],\n",
       " ['7'],\n",
       " ['9'],\n",
       " ['11'],\n",
       " ['13'],\n",
       " ['15'],\n",
       " ['17'],\n",
       " ['19'],\n",
       " ['21'],\n",
       " ['23'],\n",
       " ['25'],\n",
       " ['27'],\n",
       " ['29'],\n",
       " ['31'],\n",
       " ['33'],\n",
       " ['35'],\n",
       " ['37'],\n",
       " ['39'],\n",
       " ['41'],\n",
       " ['43']]"
      ]
     },
     "execution_count": 1,
     "metadata": {},
     "output_type": "execute_result"
    }
   ],
   "source": [
    "#coding=utf-8\n",
    "from simple_idml import idml\n",
    "from lxml import etree\n",
    "import xmltodict\n",
    "global myStory\n",
    "from app.models import Book, Page\n",
    "book_id='1'\n",
    "page_id='231'\n",
    "book=Book(book_id)\n",
    "page=Page(page_id,book)\n",
    "print page.xmlParas\n",
    "print page.xmlParas[0].xpath(\"../XMLElement[@MarkupTag='XMLTag/paragraph']/XMLAttribute[@Name='id']/@Value\")\n",
    "page.paras"
   ]
  },
  {
   "cell_type": "code",
   "execution_count": null,
   "metadata": {
    "collapsed": true
   },
   "outputs": [],
   "source": []
  }
 ],
 "metadata": {
  "kernelspec": {
   "display_name": "Python 2",
   "language": "python",
   "name": "python2"
  },
  "language_info": {
   "codemirror_mode": {
    "name": "ipython",
    "version": 2
   },
   "file_extension": ".py",
   "mimetype": "text/x-python",
   "name": "python",
   "nbconvert_exporter": "python",
   "pygments_lexer": "ipython2",
   "version": "2.7.6"
  }
 },
 "nbformat": 4,
 "nbformat_minor": 0
}
