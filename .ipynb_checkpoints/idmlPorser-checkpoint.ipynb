{
 "cells": [
  {
   "cell_type": "code",
   "execution_count": 3,
   "metadata": {
    "collapsed": false
   },
   "outputs": [],
   "source": [
    "#coding=utf-8\n",
    "from simple_idml import idml\n",
    "from lxml import etree\n",
    "import xmltodict\n",
    "global myStory\n",
    "\n"
   ]
  },
  {
   "cell_type": "code",
   "execution_count": null,
   "metadata": {
    "collapsed": false
   },
   "outputs": [],
   "source": []
  },
  {
   "cell_type": "code",
   "execution_count": null,
   "metadata": {
    "collapsed": true
   },
   "outputs": [],
   "source": [
    "print page.paras"
   ]
  },
  {
   "cell_type": "code",
   "execution_count": null,
   "metadata": {
    "collapsed": false
   },
   "outputs": [],
   "source": [
    "print get('http://localhost:5000/book1/231').json()"
   ]
  },
  {
   "cell_type": "code",
   "execution_count": 4,
   "metadata": {
    "collapsed": false
   },
   "outputs": [
    {
     "ename": "WindowsError",
     "evalue": "[Error 3] ",
     "output_type": "error",
     "traceback": [
      "\u001b[1;31m---------------------------------------------------------------------------\u001b[0m",
      "\u001b[1;31mWindowsError\u001b[0m                              Traceback (most recent call last)",
      "\u001b[1;32m<ipython-input-4-7afe7267ed6c>\u001b[0m in \u001b[0;36m<module>\u001b[1;34m()\u001b[0m\n\u001b[0;32m      1\u001b[0m \u001b[0mmy_idml_package\u001b[0m \u001b[1;33m=\u001b[0m \u001b[0midml\u001b[0m\u001b[1;33m.\u001b[0m\u001b[0mIDMLPackage\u001b[0m\u001b[1;33m(\u001b[0m\u001b[1;34m\"./test.idml\"\u001b[0m\u001b[1;33m)\u001b[0m\u001b[1;33m\u001b[0m\u001b[0m\n\u001b[1;32m----> 2\u001b[1;33m \u001b[1;32mwith\u001b[0m \u001b[0mmy_idml_package\u001b[0m\u001b[1;33m.\u001b[0m\u001b[0mprefix\u001b[0m\u001b[1;33m(\u001b[0m\u001b[1;34m\"main\"\u001b[0m\u001b[1;33m)\u001b[0m \u001b[1;32mas\u001b[0m \u001b[0mp_idml_main\u001b[0m\u001b[1;33m:\u001b[0m\u001b[1;33m\u001b[0m\u001b[0m\n\u001b[0m\u001b[0;32m      3\u001b[0m     \u001b[1;32mprint\u001b[0m \u001b[0metree\u001b[0m\u001b[1;33m.\u001b[0m\u001b[0mtostring\u001b[0m\u001b[1;33m(\u001b[0m\u001b[0mp_idml_main\u001b[0m\u001b[1;33m.\u001b[0m\u001b[0mxml_structure\u001b[0m\u001b[1;33m,\u001b[0m \u001b[0mpretty_print\u001b[0m\u001b[1;33m=\u001b[0m\u001b[0mTrue\u001b[0m\u001b[1;33m)\u001b[0m\u001b[1;33m\u001b[0m\u001b[0m\n\u001b[0;32m      4\u001b[0m     \u001b[1;32mprint\u001b[0m \u001b[0mp_idml_main\u001b[0m\u001b[1;33m.\u001b[0m\u001b[0mstories_for_node\u001b[0m\u001b[1;33m(\u001b[0m\u001b[1;34m\"*\"\u001b[0m\u001b[1;33m)\u001b[0m\u001b[1;33m\u001b[0m\u001b[0m\n\u001b[0;32m      5\u001b[0m     \u001b[0mmyStory\u001b[0m\u001b[1;33m=\u001b[0m \u001b[0mp_idml_main\u001b[0m\u001b[1;33m.\u001b[0m\u001b[0mget_story_object_by_xpath\u001b[0m\u001b[1;33m(\u001b[0m\u001b[1;34m\"*\"\u001b[0m\u001b[1;33m)\u001b[0m\u001b[1;33m\u001b[0m\u001b[0m\n",
      "\u001b[1;32md:\\python27\\lib\\site-packages\\simple_idml\\decorators.pyc\u001b[0m in \u001b[0;36mnew_func\u001b[1;34m(idml_package, *args, **kwargs)\u001b[0m\n\u001b[0;32m     39\u001b[0m             \u001b[1;32mexcept\u001b[0m \u001b[0mBaseException\u001b[0m\u001b[1;33m,\u001b[0m \u001b[0merr\u001b[0m\u001b[1;33m:\u001b[0m\u001b[1;33m\u001b[0m\u001b[0m\n\u001b[0;32m     40\u001b[0m                 \u001b[0midml_package\u001b[0m\u001b[1;33m.\u001b[0m\u001b[0mworking_copy_path\u001b[0m \u001b[1;33m=\u001b[0m \u001b[0mNone\u001b[0m\u001b[1;33m\u001b[0m\u001b[0m\n\u001b[1;32m---> 41\u001b[1;33m                 \u001b[1;32mraise\u001b[0m \u001b[0merr\u001b[0m\u001b[1;33m\u001b[0m\u001b[0m\n\u001b[0m\u001b[0;32m     42\u001b[0m \u001b[1;33m\u001b[0m\u001b[0m\n\u001b[0;32m     43\u001b[0m         \u001b[1;32mfrom\u001b[0m \u001b[0msimple_idml\u001b[0m\u001b[1;33m.\u001b[0m\u001b[0midml\u001b[0m \u001b[1;32mimport\u001b[0m \u001b[0mIDMLPackage\u001b[0m\u001b[1;33m\u001b[0m\u001b[0m\n",
      "\u001b[1;31mWindowsError\u001b[0m: [Error 3] "
     ]
    }
   ],
   "source": [
    "my_idml_package = idml.IDMLPackage(\"./test.idml\")\n",
    "with my_idml_package.prefix(\"main\") as p_idml_main:\n",
    "    print etree.tostring(p_idml_main.xml_structure, pretty_print=True)\n",
    "    print p_idml_main.stories_for_node(\"*\")\n",
    "    myStory= p_idml_main.get_story_object_by_xpath(\"*\")\n",
    "    print myStory.node\n",
    "    print etree.tostring(myStory.node, pretty_print=True,encoding='UTF-8')\n",
    "    \n",
    "#print myStory.node.xpath('//Content')"
   ]
  },
  {
   "cell_type": "code",
   "execution_count": null,
   "metadata": {
    "collapsed": false
   },
   "outputs": [],
   "source": [
    "xmldict=xmltodict.parse(etree.tostring(myStory.node, pretty_print=False),encoding='UTF-8')\n",
    "\n",
    "#pages crud\n",
    "#卧槽，居然是正确的，不错。\n",
    "paragraphId='55'\n",
    "paragraph= myStory.node.xpath(\"//Story/XMLElement[@MarkupTag='XMLTag/story']//XMLElement[@MarkupTag='XMLTag/paragraph' and child::XMLAttribute[@Name='id' and @Value='%s']]\"%paragraphId)\n",
    "#print stories\n",
    "for theOne in paragraph:\n",
    "    \n",
    "    #不错，居然保留了完整的结构，真不错\n",
    "#    print etree.tostring(theOne.getnext(),encoding='UTF-8')\n",
    "    content=etree.SubElement(theOne,\"Content\")\n",
    "    #这是添加子元素，哦shit\n",
    "#    content.text=u\"我的世界\"\n",
    "    #xqury默认查询是整个tree，所以要用..来限定从当前节点来开始。\n",
    "    #那也就是说，任何一个节点都知道树的任意细节。\n",
    "    #当然可以用deepcopy来截取节点的副本，但，没有意义。\n",
    "    print etree.tostring(theOne,encoding='UTF-8'),content.xpath(\"../Content/text()\")\n",
    "    \n",
    "#paragram crud\n",
    "pageId='231'\n",
    "pageChild=myStory.node.xpath(\"//Story/XMLElement[@MarkupTag='XMLTag/story']//XMLElement[@MarkupTag='XMLTag/paragraph' and child::XMLAttribute[@Name='page' and @Value='%s']]\"%pageId)\n",
    "for thePara in pageChild:\n",
    "    etree.tostring(thePara,encoding='UTF-8')\n",
    "#get paraList\n",
    "paraIdList=myStory.node.xpath(\"//Story/XMLElement[@MarkupTag='XMLTag/story']//XMLElement[@MarkupTag='XMLTag/paragraph']/XMLAttribute[@Name='id']/@Value\")\n",
    "print paraIdList\n",
    "#pageID list get and drop chongfu items\n",
    "pageIdList=myStory.node.xpath(\"//Story/XMLElement[@MarkupTag='XMLTag/story']//XMLElement[@MarkupTag='XMLTag/paragraph']/XMLAttribute[@Name='page']/@Value\")\n",
    "l2 = sorted(set(pageIdList),key=pageIdList.index)\n",
    "print pageIdList,l2\n"
   ]
  },
  {
   "cell_type": "code",
   "execution_count": null,
   "metadata": {
    "collapsed": true
   },
   "outputs": [],
   "source": []
  },
  {
   "cell_type": "code",
   "execution_count": null,
   "metadata": {
    "collapsed": true
   },
   "outputs": [],
   "source": []
  }
 ],
 "metadata": {
  "kernelspec": {
   "display_name": "Python 2",
   "language": "python",
   "name": "python2"
  },
  "language_info": {
   "codemirror_mode": {
    "name": "ipython",
    "version": 2
   },
   "file_extension": ".py",
   "mimetype": "text/x-python",
   "name": "python",
   "nbconvert_exporter": "python",
   "pygments_lexer": "ipython2",
   "version": "2.7.6"
  }
 },
 "nbformat": 4,
 "nbformat_minor": 0
}
